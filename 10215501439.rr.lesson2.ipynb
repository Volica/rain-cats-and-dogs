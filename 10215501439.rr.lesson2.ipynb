{
 "cells": [
  {
   "cell_type": "code",
   "execution_count": null,
   "id": "d36f4c34-fc1d-422c-8b46-f5cff023e8f2",
   "metadata": {},
   "outputs": [
    {
     "name": "stdout",
     "output_type": "stream",
     "text": [
      "1\n",
      "3\n",
      "5\n",
      "7\n",
      "9\n",
      "11\n",
      "13\n",
      "15\n",
      "17\n",
      "19\n",
      "21\n",
      "23\n",
      "25\n",
      "27\n",
      "29\n",
      "31\n",
      "33\n",
      "35\n",
      "37\n",
      "39\n",
      "41\n",
      "43\n",
      "45\n",
      "47\n",
      "49\n",
      "2500\n"
     ]
    }
   ],
   "source": [
    "#!/usr/bin/python\n",
    "# -*- coding:UTF-8 -*-\n",
    "k=0\n",
    "for i in range(1,100):\n",
    "    if i%2==1 and i<=49:\n",
    "        print(i)\n",
    "    if i%2==1:\n",
    "        k+=i\n",
    "print(k)"
   ]
  },
  {
   "cell_type": "code",
   "execution_count": null,
   "id": "420fb0b4-da4b-4944-9cb9-72cea439dd33",
   "metadata": {},
   "outputs": [
    {
     "name": "stdout",
     "output_type": "stream",
     "text": [
      "5\n",
      "4\n",
      "3\n",
      "2\n"
     ]
    }
   ],
   "source": [
    "#!/usr/bin/python\n",
    "# -*- coding:UTF-8 -*-\n",
    "l=[1,2,3,4,5]\n",
    "for i in range(0,len(l)-1):\n",
    "    print(l[len(l)-1-i])\n",
    "print(l[1])  "
   ]
  },
  {
   "cell_type": "code",
   "execution_count": null,
   "id": "47f67d1e-2f1d-4287-bca5-cbe87daa6c96",
   "metadata": {},
   "outputs": [
    {
     "name": "stdout",
     "output_type": "stream",
     "text": [
      "5\n",
      "4\n",
      "3\n",
      "2\n",
      "1\n"
     ]
    }
   ],
   "source": [
    "#!/usr/bin/python\n",
    "# -*- coding:UTF-8 -*-\n",
    "l=[1,2,3,4,5]\n",
    "i=4\n",
    "while i>=0:\n",
    "    print(l[i])\n",
    "    i-=1"
   ]
  },
  {
   "cell_type": "code",
   "execution_count": null,
   "id": "39e5a9b2-a1c0-4a03-b742-3eedf4bc726c",
   "metadata": {},
   "outputs": [
    {
     "name": "stdout",
     "output_type": "stream",
     "text": [
      "[5, 4, 3, 2, 1]\n"
     ]
    }
   ],
   "source": [
    "#!/usr/bin/python\n",
    "# -*- coding:UTF-8 -*-\n",
    "l=[1,2,3,4,5]\n",
    "y=l[::-1]\n",
    "print(y)"
   ]
  },
  {
   "cell_type": "code",
   "execution_count": null,
   "id": "c2c6a2d6-d424-4bf6-8007-3dd72f590068",
   "metadata": {},
   "outputs": [
    {
     "name": "stdin",
     "output_type": "stream",
     "text": [
      " aaabbbbbccddddddde1276db\n"
     ]
    },
    {
     "name": "stdout",
     "output_type": "stream",
     "text": [
      "d\n",
      "7\n"
     ]
    }
   ],
   "source": [
    "#!/usr/bin/python\n",
    "# -*- coding:UTF-8 -*-\n",
    "l=input()\n",
    "p=0\n",
    "q=0\n",
    "maxkey=\"\"\n",
    "maxnum=0\n",
    "while (p<(len(l)-1)):\n",
    "    if (l[p]!=l[q]):\n",
    "        if ((q-p)>maxnum):\n",
    "            maxnum=q-p\n",
    "            maxkey=l[p]\n",
    "        p=q\n",
    "        q+=1\n",
    "    else:\n",
    "        q+=1\n",
    "print(maxkey)\n",
    "print(maxnum)\n",
    "\n",
    "\"\"\"\n",
    "1.python里面也是str[i]的形式来引用字符串的第几个字符\n",
    "2.双指针法：\n",
    "  两个指针p&&q,一个p表示头部位置，一个q表示尾部位置；\n",
    "  用p是否超出边界来当作判断条件；\n",
    "  当两个字符前后不相等时，首先判断这段字符是否成为当前最长连续字符串？若是，则执行更改最长Number和字符；并且p向q对齐（表明这段字符结束），后指针加一\n",
    "  当两个字符前后相等时，后指针加一\n",
    "\"\"\"\n",
    "            \n",
    "    \n",
    "       "
   ]
  },
  {
   "cell_type": "code",
   "execution_count": null,
   "id": "7dd26c9c-82d4-4a6c-8b47-059035a90c16",
   "metadata": {},
   "outputs": [
    {
     "name": "stdin",
     "output_type": "stream",
     "text": [
      " sfh sbh ss iue iub\n"
     ]
    },
    {
     "name": "stdout",
     "output_type": "stream",
     "text": [
      "sfhsbhssiueiub\n"
     ]
    }
   ],
   "source": [
    "#!/usr/bin/python\n",
    "# -*- coding:UTF-8 -*-\n",
    "str=input()\n",
    "print(str.replace(' ',''))\n"
   ]
  },
  {
   "cell_type": "code",
   "execution_count": null,
   "id": "ca7c3e7c-73f1-4cb3-8077-05f58ebb808b",
   "metadata": {},
   "outputs": [
    {
     "name": "stdin",
     "output_type": "stream",
     "text": [
      " sha skjah skaj\n"
     ]
    },
    {
     "name": "stdout",
     "output_type": "stream",
     "text": [
      "shaskjahskaj\n"
     ]
    }
   ],
   "source": [
    "#!/usr/bin/python\n",
    "# -*- coding:UTF-8 -*-\n",
    "str=input()\n",
    "print(''.join(str.split()))\n",
    "\"\"\"\n",
    "split()函数\n",
    "语法：str.split(str=\"\",num=string.count(str))[n]\n",
    "\n",
    "参数说明：\n",
    "str： 表示为分隔符，默认为空格，但是不能为空('')。  若字符串中没有分隔符，则把整个字符串作为列表的一个元素\n",
    "num： 表示分割次数。如果存在参数num，则仅分隔成 num+1 个子字符串，并且每一个子字符串可以赋给新的变量\n",
    "[n]： 表示选取第n个分片\n",
    "注意：当使用空格作为分隔符时，对于中间为空的项会自动忽略\n",
    "\"\"\""
   ]
  },
  {
   "cell_type": "code",
   "execution_count": null,
   "id": "249a2b0f-ffa7-4346-8557-150d7ffa7905",
   "metadata": {},
   "outputs": [
    {
     "name": "stdout",
     "output_type": "stream",
     "text": [
      "0.4695985\n"
     ]
    }
   ],
   "source": [
    "#!/usr/bin/python\n",
    "# -*- coding:UTF-8 -*-\n",
    "#根据蒙特卡罗思想，用Python编写程序计算区间[0,1]上定积分：$\\int(x^3+x^2)dx$\n",
    "import random\n",
    "import math\n",
    "\n",
    "S = (1.0-0.0) * 1\n",
    "N = 10000000\n",
    "C = 0\n",
    "for i in range(N):\n",
    "    x = random.uniform(0.0,1.0)\n",
    "    y = random.uniform(0.0, 1.0)\n",
    "    if y <= x*x*x+x*x:\n",
    "        C += 1\n",
    "I = C * S / N\n",
    "print(I)"
   ]
  },
  {
   "cell_type": "code",
   "execution_count": null,
   "id": "877ffa1b-b068-4530-94bb-3f92605d28e0",
   "metadata": {},
   "outputs": [],
   "source": [
    "#!/usr/bin/python\n",
    "# -*- coding:UTF-8 -*-\n",
    "#结合本周理论课所学内容，使用三种方法求$\\sqrt{2}$的近似值\n",
    "#方法1\n",
    "def Square_1():\n",
    "    c=2\n",
    "    i=0\n",
    "    g=0\n",
    "    for j in range(0,c+1):\n",
    "        if (j*j>c and g==0):\n",
    "            g=j-1\n",
    "        while(abs(g*g-c)>0.001):\n",
    "            g+=0.00001\n",
    "            i+=1\n",
    "            print(\"%d:g=%.5f\" % (i,g))\n",
    "Square_1()"
   ]
  },
  {
   "cell_type": "code",
   "execution_count": null,
   "id": "c842dc01-0168-4ebe-ae16-5961816f8962",
   "metadata": {},
   "outputs": [
    {
     "name": "stdout",
     "output_type": "stream",
     "text": [
      "1 : g=1.5000000000000\n",
      "2 : g=1.2500000000000\n",
      "3 : g=1.3750000000000\n",
      "4 : g=1.4375000000000\n",
      "5 : g=1.4062500000000\n",
      "6 : g=1.4218750000000\n",
      "7 : g=1.4140625000000\n",
      "8 : g=1.4179687500000\n",
      "9 : g=1.4160156250000\n",
      "10 : g=1.4150390625000\n",
      "11 : g=1.4145507812500\n",
      "12 : g=1.4143066406250\n",
      "13 : g=1.4141845703125\n",
      "14 : g=1.4142456054688\n",
      "15 : g=1.4142150878906\n",
      "16 : g=1.4141998291016\n",
      "17 : g=1.4142074584961\n",
      "18 : g=1.4142112731934\n",
      "19 : g=1.4142131805420\n",
      "20 : g=1.4142141342163\n",
      "21 : g=1.4142136573792\n",
      "22 : g=1.4142134189606\n",
      "23 : g=1.4142135381699\n",
      "24 : g=1.4142135977745\n",
      "25 : g=1.4142135679722\n",
      "26 : g=1.4142135530710\n",
      "27 : g=1.4142135605216\n",
      "28 : g=1.4142135642469\n",
      "29 : g=1.4142135623842\n",
      "30 : g=1.4142135614529\n",
      "31 : g=1.4142135619186\n",
      "32 : g=1.4142135621514\n",
      "33 : g=1.4142135622678\n",
      "34 : g=1.4142135623260\n",
      "35 : g=1.4142135623551\n",
      "36 : g=1.4142135623697\n"
     ]
    }
   ],
   "source": [
    "#!/usr/bin/python\n",
    "# -*- coding:UTF-8 -*-\n",
    "#结合本周理论课所学内容，使用三种方法求$\\sqrt{2}$的近似值\n",
    "#方法2\n",
    "def Square_2():\n",
    "    c=2\n",
    "    i=0\n",
    "    maxx=c\n",
    "    minn=0\n",
    "    g=(minn+maxx)/2\n",
    "    while(abs(g*g-c)>0.00000000001):\n",
    "        if(g*g<c):\n",
    "            minn=g\n",
    "        else:\n",
    "            maxx=g\n",
    "        g=(minn+maxx)/2\n",
    "        i+=1\n",
    "        print(\"%d : g=%.13f\" % (i,g))\n",
    "        \n",
    "Square_2()"
   ]
  },
  {
   "cell_type": "code",
   "execution_count": null,
   "id": "8accf976-6a1c-4617-aca0-8e83be54199b",
   "metadata": {},
   "outputs": [
    {
     "name": "stdout",
     "output_type": "stream",
     "text": [
      "1:1.5000000000000\n",
      "2:1.4166666666667\n",
      "3:1.4142156862745\n",
      "4:1.4142135623747\n"
     ]
    }
   ],
   "source": [
    "#!/usr/bin/python\n",
    "# -*- coding:UTF-8 -*-\n",
    "#结合本周理论课所学内容，使用三种方法求$\\sqrt{2}$的近似值\n",
    "#方法2\n",
    "def Square_3():\n",
    "    c=2\n",
    "    i=0\n",
    "    g=c/2\n",
    "    while(abs(g*g-c)>0.00000000001):\n",
    "        g=(g+c/g)/2\n",
    "        i+=1\n",
    "        print(\"%d:%.13f\"%(i,g))\n",
    "        \n",
    "Square_3()"
   ]
  }
 ],
 "metadata": {
  "kernelspec": {
   "display_name": "Python 3 (ipykernel)",
   "language": "python",
   "name": "python3"
  },
  "language_info": {
   "codemirror_mode": {
    "name": "ipython",
    "version": 3
   },
   "file_extension": ".py",
   "mimetype": "text/x-python",
   "name": "python",
   "nbconvert_exporter": "python",
   "pygments_lexer": "ipython3",
   "version": "3.9.12"
  }
 },
 "nbformat": 4,
 "nbformat_minor": 5
}

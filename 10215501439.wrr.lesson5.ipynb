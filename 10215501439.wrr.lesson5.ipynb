{
 "cells": [
  {
   "cell_type": "code",
   "execution_count": 3,
   "id": "24165535-203b-4846-b62b-febe592c2cda",
   "metadata": {},
   "outputs": [
    {
     "name": "stdout",
     "output_type": "stream",
     "text": [
      "[2, 3, 6, 9, 34, 39, 67]\n"
     ]
    }
   ],
   "source": [
    "def bubblesort(a):\n",
    "    num=len(a)\n",
    "    for i in range(num):\n",
    "        for j in range(num-i-1):\n",
    "            if(a[j]>a[j+1]):\n",
    "                a[j],a[j+1]=a[j+1],a[j]#python特有的交换的等式\n",
    "    print(a)\n",
    "    \n",
    "a=[34,67,2,9,3,6,39]\n",
    "bubblesort(a)"
   ]
  },
  {
   "cell_type": "code",
   "execution_count": 6,
   "id": "a246332a-fde9-49df-a0f0-c9312f997ecb",
   "metadata": {},
   "outputs": [
    {
     "ename": "NameError",
     "evalue": "name 'pivot' is not defined",
     "output_type": "error",
     "traceback": [
      "\u001b[0;31m---------------------------------------------------------------------------\u001b[0m",
      "\u001b[0;31mNameError\u001b[0m                                 Traceback (most recent call last)",
      "Input \u001b[0;32mIn [6]\u001b[0m, in \u001b[0;36m<cell line: 17>\u001b[0;34m()\u001b[0m\n\u001b[1;32m     15\u001b[0m             i \u001b[38;5;241m+\u001b[39m\u001b[38;5;241m=\u001b[39m \u001b[38;5;241m1\u001b[39m\n\u001b[1;32m     16\u001b[0m         arr[j] \u001b[38;5;241m=\u001b[39m arr[i]\n\u001b[0;32m---> 17\u001b[0m arr[i] \u001b[38;5;241m=\u001b[39m \u001b[43mpivot\u001b[49m\n\u001b[1;32m     18\u001b[0m quick_sort(arr, left, i\u001b[38;5;241m-\u001b[39m\u001b[38;5;241m1\u001b[39m)\n\u001b[1;32m     19\u001b[0m quick_sort(arr, i\u001b[38;5;241m+\u001b[39m\u001b[38;5;241m1\u001b[39m, right)\n",
      "\u001b[0;31mNameError\u001b[0m: name 'pivot' is not defined"
     ]
    }
   ],
   "source": [
    "import random\n",
    "import time\n",
    "\n",
    "def quick_sort(arr, left, right):\n",
    "    if (left >= right):\n",
    "        return\n",
    "    pivot = arr[left]\n",
    "    i = left\n",
    "    j = right\n",
    "    while i < j:\n",
    "        while i < j and arr[j] >= pivot:\n",
    "            j -= 1\n",
    "        arr[i] = arr[j]\n",
    "        while i < j and arr[i] < pivot:\n",
    "            i += 1\n",
    "        arr[j] = arr[i]\n",
    "arr[i] = pivot\n",
    "quick_sort(arr, left, i-1)\n",
    "quick_sort(arr, i+1, right)\n",
    "\n",
    "def bubblesort(a):\n",
    "    num=len(a)\n",
    "    for i in range(num):\n",
    "        for j in range(num-i-1):\n",
    "            if(a[j]>a[j+1]):\n",
    "                a[j],a[j+1]=a[j+1],a[j]#python特有的交换的等式\n",
    "                \n",
    "#随机生成一个较大的数组，为了保证影响因素不包括数组内容，所以copy数组一的内容\n",
    "arr1 = []\n",
    "for i in range(10000):\n",
    "    arr1.append(random.random())\n",
    "arr2 = arr1.copy()  \n",
    "\n",
    "t_a = time.process_time()\n",
    "bubblesort(arr1)\n",
    "t_b = time.process_time()\n",
    "print(t_b - t_a)\n",
    "\n",
    "t_a = time.process_time()\n",
    "quick_sort(arr2,0,len(arr2)-1)\n",
    "t_b = time.process_time()\n",
    "print(t_b - t_a)\n",
    "\n"
   ]
  },
  {
   "cell_type": "code",
   "execution_count": null,
   "id": "55213d32-4766-430e-ad15-4b6fc0fb8aae",
   "metadata": {},
   "outputs": [],
   "source": []
  }
 ],
 "metadata": {
  "kernelspec": {
   "display_name": "Python 3 (ipykernel)",
   "language": "python",
   "name": "python3"
  },
  "language_info": {
   "codemirror_mode": {
    "name": "ipython",
    "version": 3
   },
   "file_extension": ".py",
   "mimetype": "text/x-python",
   "name": "python",
   "nbconvert_exporter": "python",
   "pygments_lexer": "ipython3",
   "version": "3.9.12"
  }
 },
 "nbformat": 4,
 "nbformat_minor": 5
}
